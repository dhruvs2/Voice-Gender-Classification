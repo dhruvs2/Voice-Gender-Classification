{
  "nbformat": 4,
  "nbformat_minor": 0,
  "metadata": {
    "colab": {
      "name": "gender_audio_classification.ipynb",
      "provenance": []
    },
    "kernelspec": {
      "name": "python3",
      "display_name": "Python 3"
    },
    "language_info": {
      "name": "python"
    },
    "accelerator": "GPU"
  },
  "cells": [
    {
      "cell_type": "code",
      "metadata": {
        "id": "wSYHDEgIGxeg"
      },
      "source": [
        "import numpy as np\n",
        "import pandas as pd\n",
        "import matplotlib.pyplot as plt\n",
        "%matplotlib inline\n",
        "import seaborn as sns\n",
        "import keras\n",
        "from keras.models import Sequential\n",
        "from keras.layers import Dense,Dropout\n",
        "from keras.optimizers import Adam\n",
        "from sklearn import svm\n",
        "from sklearn.neural_network import MLPClassifier\n",
        "from sklearn.model_selection import train_test_split, KFold\n",
        "from sklearn.metrics import accuracy_score\n",
        "from sklearn.model_selection import cross_val_score,cross_val_predict"
      ],
      "execution_count": null,
      "outputs": []
    },
    {
      "cell_type": "code",
      "metadata": {
        "id": "KJiIsprFHd7_"
      },
      "source": [
        "df = pd.read_csv('/content/drive/MyDrive/Colab Notebooks/audio_gender_classification/voice.csv')"
      ],
      "execution_count": null,
      "outputs": []
    },
    {
      "cell_type": "code",
      "metadata": {
        "colab": {
          "base_uri": "https://localhost:8080/",
          "height": 304
        },
        "id": "vjQyBOWKHsNI",
        "outputId": "b28b705a-f989-4053-cdc3-18ec5c25a4b4"
      },
      "source": [
        "df.describe()"
      ],
      "execution_count": null,
      "outputs": [
        {
          "output_type": "execute_result",
          "data": {
            "text/html": [
              "<div>\n",
              "<style scoped>\n",
              "    .dataframe tbody tr th:only-of-type {\n",
              "        vertical-align: middle;\n",
              "    }\n",
              "\n",
              "    .dataframe tbody tr th {\n",
              "        vertical-align: top;\n",
              "    }\n",
              "\n",
              "    .dataframe thead th {\n",
              "        text-align: right;\n",
              "    }\n",
              "</style>\n",
              "<table border=\"1\" class=\"dataframe\">\n",
              "  <thead>\n",
              "    <tr style=\"text-align: right;\">\n",
              "      <th></th>\n",
              "      <th>meanfreq</th>\n",
              "      <th>sd</th>\n",
              "      <th>median</th>\n",
              "      <th>Q25</th>\n",
              "      <th>Q75</th>\n",
              "      <th>IQR</th>\n",
              "      <th>skew</th>\n",
              "      <th>kurt</th>\n",
              "      <th>sp.ent</th>\n",
              "      <th>sfm</th>\n",
              "      <th>mode</th>\n",
              "      <th>centroid</th>\n",
              "      <th>meanfun</th>\n",
              "      <th>minfun</th>\n",
              "      <th>maxfun</th>\n",
              "      <th>meandom</th>\n",
              "      <th>mindom</th>\n",
              "      <th>maxdom</th>\n",
              "      <th>dfrange</th>\n",
              "      <th>modindx</th>\n",
              "    </tr>\n",
              "  </thead>\n",
              "  <tbody>\n",
              "    <tr>\n",
              "      <th>count</th>\n",
              "      <td>3168.000000</td>\n",
              "      <td>3168.000000</td>\n",
              "      <td>3168.000000</td>\n",
              "      <td>3168.000000</td>\n",
              "      <td>3168.000000</td>\n",
              "      <td>3168.000000</td>\n",
              "      <td>3168.000000</td>\n",
              "      <td>3168.000000</td>\n",
              "      <td>3168.000000</td>\n",
              "      <td>3168.000000</td>\n",
              "      <td>3168.000000</td>\n",
              "      <td>3168.000000</td>\n",
              "      <td>3168.000000</td>\n",
              "      <td>3168.000000</td>\n",
              "      <td>3168.000000</td>\n",
              "      <td>3168.000000</td>\n",
              "      <td>3168.000000</td>\n",
              "      <td>3168.000000</td>\n",
              "      <td>3168.000000</td>\n",
              "      <td>3168.000000</td>\n",
              "    </tr>\n",
              "    <tr>\n",
              "      <th>mean</th>\n",
              "      <td>0.180907</td>\n",
              "      <td>0.057126</td>\n",
              "      <td>0.185621</td>\n",
              "      <td>0.140456</td>\n",
              "      <td>0.224765</td>\n",
              "      <td>0.084309</td>\n",
              "      <td>3.140168</td>\n",
              "      <td>36.568461</td>\n",
              "      <td>0.895127</td>\n",
              "      <td>0.408216</td>\n",
              "      <td>0.165282</td>\n",
              "      <td>0.180907</td>\n",
              "      <td>0.142807</td>\n",
              "      <td>0.036802</td>\n",
              "      <td>0.258842</td>\n",
              "      <td>0.829211</td>\n",
              "      <td>0.052647</td>\n",
              "      <td>5.047277</td>\n",
              "      <td>4.994630</td>\n",
              "      <td>0.173752</td>\n",
              "    </tr>\n",
              "    <tr>\n",
              "      <th>std</th>\n",
              "      <td>0.029918</td>\n",
              "      <td>0.016652</td>\n",
              "      <td>0.036360</td>\n",
              "      <td>0.048680</td>\n",
              "      <td>0.023639</td>\n",
              "      <td>0.042783</td>\n",
              "      <td>4.240529</td>\n",
              "      <td>134.928661</td>\n",
              "      <td>0.044980</td>\n",
              "      <td>0.177521</td>\n",
              "      <td>0.077203</td>\n",
              "      <td>0.029918</td>\n",
              "      <td>0.032304</td>\n",
              "      <td>0.019220</td>\n",
              "      <td>0.030077</td>\n",
              "      <td>0.525205</td>\n",
              "      <td>0.063299</td>\n",
              "      <td>3.521157</td>\n",
              "      <td>3.520039</td>\n",
              "      <td>0.119454</td>\n",
              "    </tr>\n",
              "    <tr>\n",
              "      <th>min</th>\n",
              "      <td>0.039363</td>\n",
              "      <td>0.018363</td>\n",
              "      <td>0.010975</td>\n",
              "      <td>0.000229</td>\n",
              "      <td>0.042946</td>\n",
              "      <td>0.014558</td>\n",
              "      <td>0.141735</td>\n",
              "      <td>2.068455</td>\n",
              "      <td>0.738651</td>\n",
              "      <td>0.036876</td>\n",
              "      <td>0.000000</td>\n",
              "      <td>0.039363</td>\n",
              "      <td>0.055565</td>\n",
              "      <td>0.009775</td>\n",
              "      <td>0.103093</td>\n",
              "      <td>0.007812</td>\n",
              "      <td>0.004883</td>\n",
              "      <td>0.007812</td>\n",
              "      <td>0.000000</td>\n",
              "      <td>0.000000</td>\n",
              "    </tr>\n",
              "    <tr>\n",
              "      <th>25%</th>\n",
              "      <td>0.163662</td>\n",
              "      <td>0.041954</td>\n",
              "      <td>0.169593</td>\n",
              "      <td>0.111087</td>\n",
              "      <td>0.208747</td>\n",
              "      <td>0.042560</td>\n",
              "      <td>1.649569</td>\n",
              "      <td>5.669547</td>\n",
              "      <td>0.861811</td>\n",
              "      <td>0.258041</td>\n",
              "      <td>0.118016</td>\n",
              "      <td>0.163662</td>\n",
              "      <td>0.116998</td>\n",
              "      <td>0.018223</td>\n",
              "      <td>0.253968</td>\n",
              "      <td>0.419828</td>\n",
              "      <td>0.007812</td>\n",
              "      <td>2.070312</td>\n",
              "      <td>2.044922</td>\n",
              "      <td>0.099766</td>\n",
              "    </tr>\n",
              "    <tr>\n",
              "      <th>50%</th>\n",
              "      <td>0.184838</td>\n",
              "      <td>0.059155</td>\n",
              "      <td>0.190032</td>\n",
              "      <td>0.140286</td>\n",
              "      <td>0.225684</td>\n",
              "      <td>0.094280</td>\n",
              "      <td>2.197101</td>\n",
              "      <td>8.318463</td>\n",
              "      <td>0.901767</td>\n",
              "      <td>0.396335</td>\n",
              "      <td>0.186599</td>\n",
              "      <td>0.184838</td>\n",
              "      <td>0.140519</td>\n",
              "      <td>0.046110</td>\n",
              "      <td>0.271186</td>\n",
              "      <td>0.765795</td>\n",
              "      <td>0.023438</td>\n",
              "      <td>4.992188</td>\n",
              "      <td>4.945312</td>\n",
              "      <td>0.139357</td>\n",
              "    </tr>\n",
              "    <tr>\n",
              "      <th>75%</th>\n",
              "      <td>0.199146</td>\n",
              "      <td>0.067020</td>\n",
              "      <td>0.210618</td>\n",
              "      <td>0.175939</td>\n",
              "      <td>0.243660</td>\n",
              "      <td>0.114175</td>\n",
              "      <td>2.931694</td>\n",
              "      <td>13.648905</td>\n",
              "      <td>0.928713</td>\n",
              "      <td>0.533676</td>\n",
              "      <td>0.221104</td>\n",
              "      <td>0.199146</td>\n",
              "      <td>0.169581</td>\n",
              "      <td>0.047904</td>\n",
              "      <td>0.277457</td>\n",
              "      <td>1.177166</td>\n",
              "      <td>0.070312</td>\n",
              "      <td>7.007812</td>\n",
              "      <td>6.992188</td>\n",
              "      <td>0.209183</td>\n",
              "    </tr>\n",
              "    <tr>\n",
              "      <th>max</th>\n",
              "      <td>0.251124</td>\n",
              "      <td>0.115273</td>\n",
              "      <td>0.261224</td>\n",
              "      <td>0.247347</td>\n",
              "      <td>0.273469</td>\n",
              "      <td>0.252225</td>\n",
              "      <td>34.725453</td>\n",
              "      <td>1309.612887</td>\n",
              "      <td>0.981997</td>\n",
              "      <td>0.842936</td>\n",
              "      <td>0.280000</td>\n",
              "      <td>0.251124</td>\n",
              "      <td>0.237636</td>\n",
              "      <td>0.204082</td>\n",
              "      <td>0.279114</td>\n",
              "      <td>2.957682</td>\n",
              "      <td>0.458984</td>\n",
              "      <td>21.867188</td>\n",
              "      <td>21.843750</td>\n",
              "      <td>0.932374</td>\n",
              "    </tr>\n",
              "  </tbody>\n",
              "</table>\n",
              "</div>"
            ],
            "text/plain": [
              "          meanfreq           sd  ...      dfrange      modindx\n",
              "count  3168.000000  3168.000000  ...  3168.000000  3168.000000\n",
              "mean      0.180907     0.057126  ...     4.994630     0.173752\n",
              "std       0.029918     0.016652  ...     3.520039     0.119454\n",
              "min       0.039363     0.018363  ...     0.000000     0.000000\n",
              "25%       0.163662     0.041954  ...     2.044922     0.099766\n",
              "50%       0.184838     0.059155  ...     4.945312     0.139357\n",
              "75%       0.199146     0.067020  ...     6.992188     0.209183\n",
              "max       0.251124     0.115273  ...    21.843750     0.932374\n",
              "\n",
              "[8 rows x 20 columns]"
            ]
          },
          "metadata": {
            "tags": []
          },
          "execution_count": 96
        }
      ]
    },
    {
      "cell_type": "code",
      "metadata": {
        "colab": {
          "base_uri": "https://localhost:8080/",
          "height": 215
        },
        "id": "aX2GhcQcHwMF",
        "outputId": "98bf3941-5d3f-4545-91c4-34cfbda3a8ee"
      },
      "source": [
        "df.head()"
      ],
      "execution_count": null,
      "outputs": [
        {
          "output_type": "execute_result",
          "data": {
            "text/html": [
              "<div>\n",
              "<style scoped>\n",
              "    .dataframe tbody tr th:only-of-type {\n",
              "        vertical-align: middle;\n",
              "    }\n",
              "\n",
              "    .dataframe tbody tr th {\n",
              "        vertical-align: top;\n",
              "    }\n",
              "\n",
              "    .dataframe thead th {\n",
              "        text-align: right;\n",
              "    }\n",
              "</style>\n",
              "<table border=\"1\" class=\"dataframe\">\n",
              "  <thead>\n",
              "    <tr style=\"text-align: right;\">\n",
              "      <th></th>\n",
              "      <th>meanfreq</th>\n",
              "      <th>sd</th>\n",
              "      <th>median</th>\n",
              "      <th>Q25</th>\n",
              "      <th>Q75</th>\n",
              "      <th>IQR</th>\n",
              "      <th>skew</th>\n",
              "      <th>kurt</th>\n",
              "      <th>sp.ent</th>\n",
              "      <th>sfm</th>\n",
              "      <th>mode</th>\n",
              "      <th>centroid</th>\n",
              "      <th>meanfun</th>\n",
              "      <th>minfun</th>\n",
              "      <th>maxfun</th>\n",
              "      <th>meandom</th>\n",
              "      <th>mindom</th>\n",
              "      <th>maxdom</th>\n",
              "      <th>dfrange</th>\n",
              "      <th>modindx</th>\n",
              "      <th>label</th>\n",
              "    </tr>\n",
              "  </thead>\n",
              "  <tbody>\n",
              "    <tr>\n",
              "      <th>0</th>\n",
              "      <td>0.059781</td>\n",
              "      <td>0.064241</td>\n",
              "      <td>0.032027</td>\n",
              "      <td>0.015071</td>\n",
              "      <td>0.090193</td>\n",
              "      <td>0.075122</td>\n",
              "      <td>12.863462</td>\n",
              "      <td>274.402906</td>\n",
              "      <td>0.893369</td>\n",
              "      <td>0.491918</td>\n",
              "      <td>0.000000</td>\n",
              "      <td>0.059781</td>\n",
              "      <td>0.084279</td>\n",
              "      <td>0.015702</td>\n",
              "      <td>0.275862</td>\n",
              "      <td>0.007812</td>\n",
              "      <td>0.007812</td>\n",
              "      <td>0.007812</td>\n",
              "      <td>0.000000</td>\n",
              "      <td>0.000000</td>\n",
              "      <td>male</td>\n",
              "    </tr>\n",
              "    <tr>\n",
              "      <th>1</th>\n",
              "      <td>0.066009</td>\n",
              "      <td>0.067310</td>\n",
              "      <td>0.040229</td>\n",
              "      <td>0.019414</td>\n",
              "      <td>0.092666</td>\n",
              "      <td>0.073252</td>\n",
              "      <td>22.423285</td>\n",
              "      <td>634.613855</td>\n",
              "      <td>0.892193</td>\n",
              "      <td>0.513724</td>\n",
              "      <td>0.000000</td>\n",
              "      <td>0.066009</td>\n",
              "      <td>0.107937</td>\n",
              "      <td>0.015826</td>\n",
              "      <td>0.250000</td>\n",
              "      <td>0.009014</td>\n",
              "      <td>0.007812</td>\n",
              "      <td>0.054688</td>\n",
              "      <td>0.046875</td>\n",
              "      <td>0.052632</td>\n",
              "      <td>male</td>\n",
              "    </tr>\n",
              "    <tr>\n",
              "      <th>2</th>\n",
              "      <td>0.077316</td>\n",
              "      <td>0.083829</td>\n",
              "      <td>0.036718</td>\n",
              "      <td>0.008701</td>\n",
              "      <td>0.131908</td>\n",
              "      <td>0.123207</td>\n",
              "      <td>30.757155</td>\n",
              "      <td>1024.927705</td>\n",
              "      <td>0.846389</td>\n",
              "      <td>0.478905</td>\n",
              "      <td>0.000000</td>\n",
              "      <td>0.077316</td>\n",
              "      <td>0.098706</td>\n",
              "      <td>0.015656</td>\n",
              "      <td>0.271186</td>\n",
              "      <td>0.007990</td>\n",
              "      <td>0.007812</td>\n",
              "      <td>0.015625</td>\n",
              "      <td>0.007812</td>\n",
              "      <td>0.046512</td>\n",
              "      <td>male</td>\n",
              "    </tr>\n",
              "    <tr>\n",
              "      <th>3</th>\n",
              "      <td>0.151228</td>\n",
              "      <td>0.072111</td>\n",
              "      <td>0.158011</td>\n",
              "      <td>0.096582</td>\n",
              "      <td>0.207955</td>\n",
              "      <td>0.111374</td>\n",
              "      <td>1.232831</td>\n",
              "      <td>4.177296</td>\n",
              "      <td>0.963322</td>\n",
              "      <td>0.727232</td>\n",
              "      <td>0.083878</td>\n",
              "      <td>0.151228</td>\n",
              "      <td>0.088965</td>\n",
              "      <td>0.017798</td>\n",
              "      <td>0.250000</td>\n",
              "      <td>0.201497</td>\n",
              "      <td>0.007812</td>\n",
              "      <td>0.562500</td>\n",
              "      <td>0.554688</td>\n",
              "      <td>0.247119</td>\n",
              "      <td>male</td>\n",
              "    </tr>\n",
              "    <tr>\n",
              "      <th>4</th>\n",
              "      <td>0.135120</td>\n",
              "      <td>0.079146</td>\n",
              "      <td>0.124656</td>\n",
              "      <td>0.078720</td>\n",
              "      <td>0.206045</td>\n",
              "      <td>0.127325</td>\n",
              "      <td>1.101174</td>\n",
              "      <td>4.333713</td>\n",
              "      <td>0.971955</td>\n",
              "      <td>0.783568</td>\n",
              "      <td>0.104261</td>\n",
              "      <td>0.135120</td>\n",
              "      <td>0.106398</td>\n",
              "      <td>0.016931</td>\n",
              "      <td>0.266667</td>\n",
              "      <td>0.712812</td>\n",
              "      <td>0.007812</td>\n",
              "      <td>5.484375</td>\n",
              "      <td>5.476562</td>\n",
              "      <td>0.208274</td>\n",
              "      <td>male</td>\n",
              "    </tr>\n",
              "  </tbody>\n",
              "</table>\n",
              "</div>"
            ],
            "text/plain": [
              "   meanfreq        sd    median       Q25  ...    maxdom   dfrange   modindx  label\n",
              "0  0.059781  0.064241  0.032027  0.015071  ...  0.007812  0.000000  0.000000   male\n",
              "1  0.066009  0.067310  0.040229  0.019414  ...  0.054688  0.046875  0.052632   male\n",
              "2  0.077316  0.083829  0.036718  0.008701  ...  0.015625  0.007812  0.046512   male\n",
              "3  0.151228  0.072111  0.158011  0.096582  ...  0.562500  0.554688  0.247119   male\n",
              "4  0.135120  0.079146  0.124656  0.078720  ...  5.484375  5.476562  0.208274   male\n",
              "\n",
              "[5 rows x 21 columns]"
            ]
          },
          "metadata": {
            "tags": []
          },
          "execution_count": 97
        }
      ]
    },
    {
      "cell_type": "code",
      "metadata": {
        "colab": {
          "base_uri": "https://localhost:8080/",
          "height": 400
        },
        "id": "V2GWwd1qjmeK",
        "outputId": "a4165202-f653-42c4-ca2e-a11111141bfd"
      },
      "source": [
        "sns.catplot(x=\"label\", y=\"meanfreq\", data=df)"
      ],
      "execution_count": null,
      "outputs": [
        {
          "output_type": "execute_result",
          "data": {
            "text/plain": [
              "<seaborn.axisgrid.FacetGrid at 0x7fcfa01691d0>"
            ]
          },
          "metadata": {
            "tags": []
          },
          "execution_count": 103
        },
        {
          "output_type": "display_data",
          "data": {
            "image/png": "[encoded data removed]",
            "text/plain": [
              "<Figure size 360x360 with 1 Axes>"
            ]
          },
          "metadata": {
            "tags": [],
            "needs_background": "light"
          }
        }
      ]
    },
    {
      "cell_type": "markdown",
      "metadata": {
        "id": "EFtZO2MrQIPE"
      },
      "source": [
        "Changing labels to 0 and 1"
      ]
    },
    {
      "cell_type": "code",
      "metadata": {
        "colab": {
          "base_uri": "https://localhost:8080/"
        },
        "id": "lfWQb9XqL6N5",
        "outputId": "3db7b9e7-37cb-41c4-d363-fcd9d29faf09"
      },
      "source": [
        "for i in range(0,len(df)):\n",
        "  if(df['label'][i] == 'male'):\n",
        "    df['label'][i] = 1\n",
        "  else:\n",
        "    df['label'][i] = 0"
      ],
      "execution_count": null,
      "outputs": [
        {
          "output_type": "stream",
          "text": [
            "/usr/local/lib/python3.7/dist-packages/ipykernel_launcher.py:3: SettingWithCopyWarning: \n",
            "A value is trying to be set on a copy of a slice from a DataFrame\n",
            "\n",
            "See the caveats in the documentation: https://pandas.pydata.org/pandas-docs/stable/user_guide/indexing.html#returning-a-view-versus-a-copy\n",
            "  This is separate from the ipykernel package so we can avoid doing imports until\n",
            "/usr/local/lib/python3.7/dist-packages/ipykernel_launcher.py:5: SettingWithCopyWarning: \n",
            "A value is trying to be set on a copy of a slice from a DataFrame\n",
            "\n",
            "See the caveats in the documentation: https://pandas.pydata.org/pandas-docs/stable/user_guide/indexing.html#returning-a-view-versus-a-copy\n",
            "  \"\"\"\n"
          ],
          "name": "stderr"
        }
      ]
    },
    {
      "cell_type": "code",
      "metadata": {
        "colab": {
          "base_uri": "https://localhost:8080/",
          "height": 215
        },
        "id": "mY2wmRokL_nA",
        "outputId": "bb8983e5-9f92-4df9-badd-d34e25edc16b"
      },
      "source": [
        "df.head()"
      ],
      "execution_count": null,
      "outputs": [
        {
          "output_type": "execute_result",
          "data": {
            "text/html": [
              "<div>\n",
              "<style scoped>\n",
              "    .dataframe tbody tr th:only-of-type {\n",
              "        vertical-align: middle;\n",
              "    }\n",
              "\n",
              "    .dataframe tbody tr th {\n",
              "        vertical-align: top;\n",
              "    }\n",
              "\n",
              "    .dataframe thead th {\n",
              "        text-align: right;\n",
              "    }\n",
              "</style>\n",
              "<table border=\"1\" class=\"dataframe\">\n",
              "  <thead>\n",
              "    <tr style=\"text-align: right;\">\n",
              "      <th></th>\n",
              "      <th>meanfreq</th>\n",
              "      <th>sd</th>\n",
              "      <th>median</th>\n",
              "      <th>Q25</th>\n",
              "      <th>Q75</th>\n",
              "      <th>IQR</th>\n",
              "      <th>skew</th>\n",
              "      <th>kurt</th>\n",
              "      <th>sp.ent</th>\n",
              "      <th>sfm</th>\n",
              "      <th>mode</th>\n",
              "      <th>centroid</th>\n",
              "      <th>meanfun</th>\n",
              "      <th>minfun</th>\n",
              "      <th>maxfun</th>\n",
              "      <th>meandom</th>\n",
              "      <th>mindom</th>\n",
              "      <th>maxdom</th>\n",
              "      <th>dfrange</th>\n",
              "      <th>modindx</th>\n",
              "      <th>label</th>\n",
              "    </tr>\n",
              "  </thead>\n",
              "  <tbody>\n",
              "    <tr>\n",
              "      <th>0</th>\n",
              "      <td>0.059781</td>\n",
              "      <td>0.064241</td>\n",
              "      <td>0.032027</td>\n",
              "      <td>0.015071</td>\n",
              "      <td>0.090193</td>\n",
              "      <td>0.075122</td>\n",
              "      <td>12.863462</td>\n",
              "      <td>274.402906</td>\n",
              "      <td>0.893369</td>\n",
              "      <td>0.491918</td>\n",
              "      <td>0.000000</td>\n",
              "      <td>0.059781</td>\n",
              "      <td>0.084279</td>\n",
              "      <td>0.015702</td>\n",
              "      <td>0.275862</td>\n",
              "      <td>0.007812</td>\n",
              "      <td>0.007812</td>\n",
              "      <td>0.007812</td>\n",
              "      <td>0.000000</td>\n",
              "      <td>0.000000</td>\n",
              "      <td>1</td>\n",
              "    </tr>\n",
              "    <tr>\n",
              "      <th>1</th>\n",
              "      <td>0.066009</td>\n",
              "      <td>0.067310</td>\n",
              "      <td>0.040229</td>\n",
              "      <td>0.019414</td>\n",
              "      <td>0.092666</td>\n",
              "      <td>0.073252</td>\n",
              "      <td>22.423285</td>\n",
              "      <td>634.613855</td>\n",
              "      <td>0.892193</td>\n",
              "      <td>0.513724</td>\n",
              "      <td>0.000000</td>\n",
              "      <td>0.066009</td>\n",
              "      <td>0.107937</td>\n",
              "      <td>0.015826</td>\n",
              "      <td>0.250000</td>\n",
              "      <td>0.009014</td>\n",
              "      <td>0.007812</td>\n",
              "      <td>0.054688</td>\n",
              "      <td>0.046875</td>\n",
              "      <td>0.052632</td>\n",
              "      <td>1</td>\n",
              "    </tr>\n",
              "    <tr>\n",
              "      <th>2</th>\n",
              "      <td>0.077316</td>\n",
              "      <td>0.083829</td>\n",
              "      <td>0.036718</td>\n",
              "      <td>0.008701</td>\n",
              "      <td>0.131908</td>\n",
              "      <td>0.123207</td>\n",
              "      <td>30.757155</td>\n",
              "      <td>1024.927705</td>\n",
              "      <td>0.846389</td>\n",
              "      <td>0.478905</td>\n",
              "      <td>0.000000</td>\n",
              "      <td>0.077316</td>\n",
              "      <td>0.098706</td>\n",
              "      <td>0.015656</td>\n",
              "      <td>0.271186</td>\n",
              "      <td>0.007990</td>\n",
              "      <td>0.007812</td>\n",
              "      <td>0.015625</td>\n",
              "      <td>0.007812</td>\n",
              "      <td>0.046512</td>\n",
              "      <td>1</td>\n",
              "    </tr>\n",
              "    <tr>\n",
              "      <th>3</th>\n",
              "      <td>0.151228</td>\n",
              "      <td>0.072111</td>\n",
              "      <td>0.158011</td>\n",
              "      <td>0.096582</td>\n",
              "      <td>0.207955</td>\n",
              "      <td>0.111374</td>\n",
              "      <td>1.232831</td>\n",
              "      <td>4.177296</td>\n",
              "      <td>0.963322</td>\n",
              "      <td>0.727232</td>\n",
              "      <td>0.083878</td>\n",
              "      <td>0.151228</td>\n",
              "      <td>0.088965</td>\n",
              "      <td>0.017798</td>\n",
              "      <td>0.250000</td>\n",
              "      <td>0.201497</td>\n",
              "      <td>0.007812</td>\n",
              "      <td>0.562500</td>\n",
              "      <td>0.554688</td>\n",
              "      <td>0.247119</td>\n",
              "      <td>1</td>\n",
              "    </tr>\n",
              "    <tr>\n",
              "      <th>4</th>\n",
              "      <td>0.135120</td>\n",
              "      <td>0.079146</td>\n",
              "      <td>0.124656</td>\n",
              "      <td>0.078720</td>\n",
              "      <td>0.206045</td>\n",
              "      <td>0.127325</td>\n",
              "      <td>1.101174</td>\n",
              "      <td>4.333713</td>\n",
              "      <td>0.971955</td>\n",
              "      <td>0.783568</td>\n",
              "      <td>0.104261</td>\n",
              "      <td>0.135120</td>\n",
              "      <td>0.106398</td>\n",
              "      <td>0.016931</td>\n",
              "      <td>0.266667</td>\n",
              "      <td>0.712812</td>\n",
              "      <td>0.007812</td>\n",
              "      <td>5.484375</td>\n",
              "      <td>5.476562</td>\n",
              "      <td>0.208274</td>\n",
              "      <td>1</td>\n",
              "    </tr>\n",
              "  </tbody>\n",
              "</table>\n",
              "</div>"
            ],
            "text/plain": [
              "   meanfreq        sd    median       Q25  ...    maxdom   dfrange   modindx  label\n",
              "0  0.059781  0.064241  0.032027  0.015071  ...  0.007812  0.000000  0.000000      1\n",
              "1  0.066009  0.067310  0.040229  0.019414  ...  0.054688  0.046875  0.052632      1\n",
              "2  0.077316  0.083829  0.036718  0.008701  ...  0.015625  0.007812  0.046512      1\n",
              "3  0.151228  0.072111  0.158011  0.096582  ...  0.562500  0.554688  0.247119      1\n",
              "4  0.135120  0.079146  0.124656  0.078720  ...  5.484375  5.476562  0.208274      1\n",
              "\n",
              "[5 rows x 21 columns]"
            ]
          },
          "metadata": {
            "tags": []
          },
          "execution_count": 66
        }
      ]
    },
    {
      "cell_type": "code",
      "metadata": {
        "colab": {
          "base_uri": "https://localhost:8080/"
        },
        "id": "quQWN9g1gRUb",
        "outputId": "2c3ec3be-6c62-43c2-fd31-96a5c9b58d6e"
      },
      "source": [
        "df['label']"
      ],
      "execution_count": null,
      "outputs": [
        {
          "output_type": "execute_result",
          "data": {
            "text/plain": [
              "0       1\n",
              "1       1\n",
              "2       1\n",
              "3       1\n",
              "4       1\n",
              "       ..\n",
              "3163    0\n",
              "3164    0\n",
              "3165    0\n",
              "3166    0\n",
              "3167    0\n",
              "Name: label, Length: 3168, dtype: object"
            ]
          },
          "metadata": {
            "tags": []
          },
          "execution_count": 67
        }
      ]
    },
    {
      "cell_type": "code",
      "metadata": {
        "colab": {
          "base_uri": "https://localhost:8080/"
        },
        "id": "a2e1LEpUJEwM",
        "outputId": "51a1db6e-e97e-4570-c909-253cc5b958e4"
      },
      "source": [
        "# df_numpy = df.to_numpy()\n",
        "# type(df_numpy)"
      ],
      "execution_count": null,
      "outputs": [
        {
          "output_type": "execute_result",
          "data": {
            "text/plain": [
              "numpy.ndarray"
            ]
          },
          "metadata": {
            "tags": []
          },
          "execution_count": 33
        }
      ]
    },
    {
      "cell_type": "markdown",
      "metadata": {
        "id": "6B0z22bjQFK_"
      },
      "source": [
        "Shuffle"
      ]
    },
    {
      "cell_type": "code",
      "metadata": {
        "id": "_MVhFrxvLH9n"
      },
      "source": [
        "df = df.sample(frac = 1)"
      ],
      "execution_count": null,
      "outputs": []
    },
    {
      "cell_type": "code",
      "metadata": {
        "colab": {
          "base_uri": "https://localhost:8080/",
          "height": 215
        },
        "id": "ems6GgO9LtLN",
        "outputId": "eb363616-e00f-48f1-f5d6-0c77f8da0542"
      },
      "source": [
        "df.head()"
      ],
      "execution_count": null,
      "outputs": [
        {
          "output_type": "execute_result",
          "data": {
            "text/html": [
              "<div>\n",
              "<style scoped>\n",
              "    .dataframe tbody tr th:only-of-type {\n",
              "        vertical-align: middle;\n",
              "    }\n",
              "\n",
              "    .dataframe tbody tr th {\n",
              "        vertical-align: top;\n",
              "    }\n",
              "\n",
              "    .dataframe thead th {\n",
              "        text-align: right;\n",
              "    }\n",
              "</style>\n",
              "<table border=\"1\" class=\"dataframe\">\n",
              "  <thead>\n",
              "    <tr style=\"text-align: right;\">\n",
              "      <th></th>\n",
              "      <th>meanfreq</th>\n",
              "      <th>sd</th>\n",
              "      <th>median</th>\n",
              "      <th>Q25</th>\n",
              "      <th>Q75</th>\n",
              "      <th>IQR</th>\n",
              "      <th>skew</th>\n",
              "      <th>kurt</th>\n",
              "      <th>sp.ent</th>\n",
              "      <th>sfm</th>\n",
              "      <th>mode</th>\n",
              "      <th>centroid</th>\n",
              "      <th>meanfun</th>\n",
              "      <th>minfun</th>\n",
              "      <th>maxfun</th>\n",
              "      <th>meandom</th>\n",
              "      <th>mindom</th>\n",
              "      <th>maxdom</th>\n",
              "      <th>dfrange</th>\n",
              "      <th>modindx</th>\n",
              "      <th>label</th>\n",
              "    </tr>\n",
              "  </thead>\n",
              "  <tbody>\n",
              "    <tr>\n",
              "      <th>3071</th>\n",
              "      <td>0.161653</td>\n",
              "      <td>0.057435</td>\n",
              "      <td>0.170138</td>\n",
              "      <td>0.157522</td>\n",
              "      <td>0.182929</td>\n",
              "      <td>0.025407</td>\n",
              "      <td>6.968850</td>\n",
              "      <td>60.968047</td>\n",
              "      <td>0.870409</td>\n",
              "      <td>0.459881</td>\n",
              "      <td>0.171014</td>\n",
              "      <td>0.161653</td>\n",
              "      <td>0.163486</td>\n",
              "      <td>0.015601</td>\n",
              "      <td>0.204082</td>\n",
              "      <td>0.595161</td>\n",
              "      <td>0.170898</td>\n",
              "      <td>3.979492</td>\n",
              "      <td>3.808594</td>\n",
              "      <td>0.209073</td>\n",
              "      <td>0</td>\n",
              "    </tr>\n",
              "    <tr>\n",
              "      <th>1346</th>\n",
              "      <td>0.179838</td>\n",
              "      <td>0.060027</td>\n",
              "      <td>0.188984</td>\n",
              "      <td>0.123883</td>\n",
              "      <td>0.219955</td>\n",
              "      <td>0.096072</td>\n",
              "      <td>1.453532</td>\n",
              "      <td>4.820096</td>\n",
              "      <td>0.912606</td>\n",
              "      <td>0.432740</td>\n",
              "      <td>0.191512</td>\n",
              "      <td>0.179838</td>\n",
              "      <td>0.119143</td>\n",
              "      <td>0.047384</td>\n",
              "      <td>0.269663</td>\n",
              "      <td>0.943359</td>\n",
              "      <td>0.023438</td>\n",
              "      <td>4.453125</td>\n",
              "      <td>4.429688</td>\n",
              "      <td>0.164021</td>\n",
              "      <td>1</td>\n",
              "    </tr>\n",
              "    <tr>\n",
              "      <th>426</th>\n",
              "      <td>0.190983</td>\n",
              "      <td>0.060419</td>\n",
              "      <td>0.210278</td>\n",
              "      <td>0.128889</td>\n",
              "      <td>0.239444</td>\n",
              "      <td>0.110556</td>\n",
              "      <td>1.358908</td>\n",
              "      <td>4.394383</td>\n",
              "      <td>0.922760</td>\n",
              "      <td>0.461581</td>\n",
              "      <td>0.210278</td>\n",
              "      <td>0.190983</td>\n",
              "      <td>0.102835</td>\n",
              "      <td>0.018370</td>\n",
              "      <td>0.258065</td>\n",
              "      <td>0.456752</td>\n",
              "      <td>0.117188</td>\n",
              "      <td>2.835938</td>\n",
              "      <td>2.718750</td>\n",
              "      <td>0.146977</td>\n",
              "      <td>1</td>\n",
              "    </tr>\n",
              "    <tr>\n",
              "      <th>2576</th>\n",
              "      <td>0.220121</td>\n",
              "      <td>0.029492</td>\n",
              "      <td>0.222936</td>\n",
              "      <td>0.205043</td>\n",
              "      <td>0.232608</td>\n",
              "      <td>0.027565</td>\n",
              "      <td>3.345215</td>\n",
              "      <td>16.062448</td>\n",
              "      <td>0.806673</td>\n",
              "      <td>0.148746</td>\n",
              "      <td>0.225354</td>\n",
              "      <td>0.220121</td>\n",
              "      <td>0.182577</td>\n",
              "      <td>0.047666</td>\n",
              "      <td>0.279070</td>\n",
              "      <td>2.122044</td>\n",
              "      <td>0.210938</td>\n",
              "      <td>20.414062</td>\n",
              "      <td>20.203125</td>\n",
              "      <td>0.070653</td>\n",
              "      <td>0</td>\n",
              "    </tr>\n",
              "    <tr>\n",
              "      <th>958</th>\n",
              "      <td>0.186507</td>\n",
              "      <td>0.063279</td>\n",
              "      <td>0.177671</td>\n",
              "      <td>0.125569</td>\n",
              "      <td>0.245890</td>\n",
              "      <td>0.120321</td>\n",
              "      <td>1.855088</td>\n",
              "      <td>6.853354</td>\n",
              "      <td>0.891677</td>\n",
              "      <td>0.314426</td>\n",
              "      <td>0.118447</td>\n",
              "      <td>0.186507</td>\n",
              "      <td>0.129999</td>\n",
              "      <td>0.047198</td>\n",
              "      <td>0.279070</td>\n",
              "      <td>1.105312</td>\n",
              "      <td>0.023438</td>\n",
              "      <td>5.062500</td>\n",
              "      <td>5.039062</td>\n",
              "      <td>0.093437</td>\n",
              "      <td>1</td>\n",
              "    </tr>\n",
              "  </tbody>\n",
              "</table>\n",
              "</div>"
            ],
            "text/plain": [
              "      meanfreq        sd    median  ...    dfrange   modindx  label\n",
              "3071  0.161653  0.057435  0.170138  ...   3.808594  0.209073      0\n",
              "1346  0.179838  0.060027  0.188984  ...   4.429688  0.164021      1\n",
              "426   0.190983  0.060419  0.210278  ...   2.718750  0.146977      1\n",
              "2576  0.220121  0.029492  0.222936  ...  20.203125  0.070653      0\n",
              "958   0.186507  0.063279  0.177671  ...   5.039062  0.093437      1\n",
              "\n",
              "[5 rows x 21 columns]"
            ]
          },
          "metadata": {
            "tags": []
          },
          "execution_count": 69
        }
      ]
    },
    {
      "cell_type": "markdown",
      "metadata": {
        "id": "Ihj-sN9dS6jV"
      },
      "source": [
        "Splitting data <br>\n",
        "train: 75%\n",
        "validation: 15%\n",
        "test: 10%"
      ]
    },
    {
      "cell_type": "code",
      "metadata": {
        "id": "P05_ICplU8U0"
      },
      "source": [
        "train,test = train_test_split(df, test_size = 0.10)"
      ],
      "execution_count": null,
      "outputs": []
    },
    {
      "cell_type": "code",
      "metadata": {
        "id": "UuS8vZkWVV3_"
      },
      "source": [
        "#train, validation = train_test_split(train, test_size = 0.15)"
      ],
      "execution_count": null,
      "outputs": []
    },
    {
      "cell_type": "code",
      "metadata": {
        "colab": {
          "base_uri": "https://localhost:8080/"
        },
        "id": "nDgTUy3UVs5B",
        "outputId": "218739bc-7101-4963-ac7c-02dae550298f"
      },
      "source": [
        "print(\"Length of training set:\",len(train), \"\\nLength of test set:\",len(test))"
      ],
      "execution_count": null,
      "outputs": [
        {
          "output_type": "stream",
          "text": [
            "Length of training set: 2851 \n",
            "Length of test set: 317\n"
          ],
          "name": "stdout"
        }
      ]
    },
    {
      "cell_type": "code",
      "metadata": {
        "id": "d6iDvwr6T9dv"
      },
      "source": [
        "Y_train = train['label']\n",
        "X_train = train.drop(columns='label')\n",
        "Y_test = test['label']\n",
        "X_test = test.drop(columns='label')\n",
        "Y_train = Y_train.astype('int')\n",
        "Y_test = Y_test.astype('int')"
      ],
      "execution_count": null,
      "outputs": []
    },
    {
      "cell_type": "markdown",
      "metadata": {
        "id": "vWSye3LyLAmT"
      },
      "source": [
        "# Using SVM"
      ]
    },
    {
      "cell_type": "code",
      "metadata": {
        "id": "ctqh44usWvt3"
      },
      "source": [
        "clf = svm.SVC(kernel='linear')"
      ],
      "execution_count": null,
      "outputs": []
    },
    {
      "cell_type": "code",
      "metadata": {
        "id": "80PTTLDiY3Pz"
      },
      "source": [
        "#No cross validation\n",
        "#clf.fit(X_train,Y_train)"
      ],
      "execution_count": null,
      "outputs": []
    },
    {
      "cell_type": "code",
      "metadata": {
        "id": "jsha9iYeFFx7"
      },
      "source": [
        "scores = cross_val_score(clf, X_train, Y_train, cv=2)"
      ],
      "execution_count": null,
      "outputs": []
    },
    {
      "cell_type": "code",
      "metadata": {
        "colab": {
          "base_uri": "https://localhost:8080/"
        },
        "id": "gsmhNRyAaHnT",
        "outputId": "89cb6f05-ae21-4420-a9c0-cfc3575aa5fc"
      },
      "source": [
        "scores"
      ],
      "execution_count": null,
      "outputs": [
        {
          "output_type": "execute_result",
          "data": {
            "text/plain": [
              "array([0.90182328, 0.91508772])"
            ]
          },
          "metadata": {
            "tags": []
          },
          "execution_count": 102
        }
      ]
    },
    {
      "cell_type": "code",
      "metadata": {
        "id": "aoKhr4moZdEj"
      },
      "source": [
        "test_predict = cross_val_predict(clf,X_test,Y_test)"
      ],
      "execution_count": null,
      "outputs": []
    },
    {
      "cell_type": "code",
      "metadata": {
        "colab": {
          "base_uri": "https://localhost:8080/"
        },
        "id": "h0m2KWrWbf1i",
        "outputId": "96f24aa6-7f27-4968-e635-0c03dcebbab0"
      },
      "source": [
        "print(\"Accuracy:\",accuracy_score(Y_test, test_predict) * 100)"
      ],
      "execution_count": null,
      "outputs": [
        {
          "output_type": "stream",
          "text": [
            "Accuracy: 82.96529968454259\n"
          ],
          "name": "stdout"
        }
      ]
    },
    {
      "cell_type": "markdown",
      "metadata": {
        "id": "goZmHvLnin-8"
      },
      "source": [
        "# Using a Neural Net"
      ]
    },
    {
      "cell_type": "code",
      "metadata": {
        "colab": {
          "base_uri": "https://localhost:8080/"
        },
        "id": "-0N15sfGJ6JR",
        "outputId": "4b543614-99e4-4974-f256-a4f0de0c1a9e"
      },
      "source": [
        "model = Sequential()\n",
        "model.add(Dense(64, input_dim=20, activation='tanh'))\n",
        "model.add(Dropout(0.25))\n",
        "model.add(Dense(256, activation='tanh'))\n",
        "model.add(Dropout(0.25))\n",
        "model.add(Dense(256, activation='tanh'))\n",
        "model.add(Dropout(0.25))\n",
        "model.add(Dense(64, activation='tanh'))\n",
        "model.add(Dropout(0.25))\n",
        "model.add(Dense(1, activation='sigmoid'))\n",
        "\n",
        "model.summary()"
      ],
      "execution_count": null,
      "outputs": [
        {
          "output_type": "stream",
          "text": [
            "Model: \"sequential_2\"\n",
            "_________________________________________________________________\n",
            "Layer (type)                 Output Shape              Param #   \n",
            "=================================================================\n",
            "dense_10 (Dense)             (None, 64)                1344      \n",
            "_________________________________________________________________\n",
            "dropout_8 (Dropout)          (None, 64)                0         \n",
            "_________________________________________________________________\n",
            "dense_11 (Dense)             (None, 256)               16640     \n",
            "_________________________________________________________________\n",
            "dropout_9 (Dropout)          (None, 256)               0         \n",
            "_________________________________________________________________\n",
            "dense_12 (Dense)             (None, 256)               65792     \n",
            "_________________________________________________________________\n",
            "dropout_10 (Dropout)         (None, 256)               0         \n",
            "_________________________________________________________________\n",
            "dense_13 (Dense)             (None, 64)                16448     \n",
            "_________________________________________________________________\n",
            "dropout_11 (Dropout)         (None, 64)                0         \n",
            "_________________________________________________________________\n",
            "dense_14 (Dense)             (None, 1)                 65        \n",
            "=================================================================\n",
            "Total params: 100,289\n",
            "Trainable params: 100,289\n",
            "Non-trainable params: 0\n",
            "_________________________________________________________________\n"
          ],
          "name": "stdout"
        }
      ]
    },
    {
      "cell_type": "code",
      "metadata": {
        "id": "fI_J3ivwSHBk"
      },
      "source": [
        "opt = keras.optimizers.Adam(learning_rate=0.001)"
      ],
      "execution_count": null,
      "outputs": []
    },
    {
      "cell_type": "code",
      "metadata": {
        "id": "hcuZZOs1S7qu"
      },
      "source": [
        "model.compile(optimizer=opt,\n",
        "              loss=keras.losses.binary_crossentropy,\n",
        "              metrics=['accuracy'])\n",
        "#kullback_leibler_divergence"
      ],
      "execution_count": null,
      "outputs": []
    },
    {
      "cell_type": "code",
      "metadata": {
        "id": "gm_o-bagTVd4"
      },
      "source": [
        "train_2,test_2 = train_test_split(df, test_size = 0.10)"
      ],
      "execution_count": null,
      "outputs": []
    },
    {
      "cell_type": "code",
      "metadata": {
        "id": "UAdh3FZBULBb"
      },
      "source": [
        "train_2, val = train_test_split(train_2, test_size = 0.15)"
      ],
      "execution_count": null,
      "outputs": []
    },
    {
      "cell_type": "code",
      "metadata": {
        "id": "e9lkjZf4V301"
      },
      "source": [
        "Y_train_2 = train_2['label']\n",
        "X_train_2 = train_2.drop(columns='label')\n",
        "Y_val_2 = val['label']\n",
        "X_val_2 = val.drop(columns='label')\n",
        "Y_train_2 = Y_train_2.astype('int')\n",
        "Y_val_2 = Y_val_2.astype('int')"
      ],
      "execution_count": null,
      "outputs": []
    },
    {
      "cell_type": "code",
      "metadata": {
        "colab": {
          "base_uri": "https://localhost:8080/"
        },
        "id": "CgV-5ArnUdmX",
        "outputId": "bdab148e-65be-4126-bbda-e7cb8b8bf8ac"
      },
      "source": [
        "history = model.fit(X_train_2,Y_train_2,epochs=150,validation_data=(X_val_2,Y_val_2))"
      ],
      "execution_count": null,
      "outputs": [
        {
          "output_type": "stream",
          "text": [
            "Epoch 1/150\n",
            "76/76 [==============================] - 2s 8ms/step - loss: 0.7453 - accuracy: 0.5435 - val_loss: 0.6297 - val_accuracy: 0.6355\n",
            "Epoch 2/150\n",
            "76/76 [==============================] - 0s 4ms/step - loss: 0.6864 - accuracy: 0.5917 - val_loss: 0.6133 - val_accuracy: 0.6636\n",
            "Epoch 3/150\n",
            "76/76 [==============================] - 0s 3ms/step - loss: 0.6317 - accuracy: 0.6569 - val_loss: 0.5761 - val_accuracy: 0.6799\n",
            "Epoch 4/150\n",
            "76/76 [==============================] - 0s 4ms/step - loss: 0.5979 - accuracy: 0.6716 - val_loss: 0.5428 - val_accuracy: 0.7290\n",
            "Epoch 5/150\n",
            "76/76 [==============================] - 0s 3ms/step - loss: 0.5770 - accuracy: 0.7041 - val_loss: 0.5222 - val_accuracy: 0.7150\n",
            "Epoch 6/150\n",
            "76/76 [==============================] - 0s 4ms/step - loss: 0.5343 - accuracy: 0.7313 - val_loss: 0.4903 - val_accuracy: 0.7710\n",
            "Epoch 7/150\n",
            "76/76 [==============================] - 0s 4ms/step - loss: 0.5377 - accuracy: 0.7330 - val_loss: 0.4761 - val_accuracy: 0.7827\n",
            "Epoch 8/150\n",
            "76/76 [==============================] - 0s 4ms/step - loss: 0.4816 - accuracy: 0.7767 - val_loss: 0.4783 - val_accuracy: 0.7874\n",
            "Epoch 9/150\n",
            "76/76 [==============================] - 0s 4ms/step - loss: 0.4986 - accuracy: 0.7563 - val_loss: 0.4840 - val_accuracy: 0.7757\n",
            "Epoch 10/150\n",
            "76/76 [==============================] - 0s 4ms/step - loss: 0.4706 - accuracy: 0.7823 - val_loss: 0.4287 - val_accuracy: 0.7991\n",
            "Epoch 11/150\n",
            "76/76 [==============================] - 0s 4ms/step - loss: 0.4193 - accuracy: 0.8154 - val_loss: 0.4080 - val_accuracy: 0.8154\n",
            "Epoch 12/150\n",
            "76/76 [==============================] - 0s 4ms/step - loss: 0.4325 - accuracy: 0.7893 - val_loss: 0.3889 - val_accuracy: 0.8131\n",
            "Epoch 13/150\n",
            "76/76 [==============================] - 0s 3ms/step - loss: 0.3948 - accuracy: 0.8269 - val_loss: 0.5031 - val_accuracy: 0.7734\n",
            "Epoch 14/150\n",
            "76/76 [==============================] - 0s 3ms/step - loss: 0.4509 - accuracy: 0.7973 - val_loss: 0.3651 - val_accuracy: 0.8294\n",
            "Epoch 15/150\n",
            "76/76 [==============================] - 0s 3ms/step - loss: 0.3831 - accuracy: 0.8335 - val_loss: 0.3473 - val_accuracy: 0.8341\n",
            "Epoch 16/150\n",
            "76/76 [==============================] - 0s 4ms/step - loss: 0.3612 - accuracy: 0.8429 - val_loss: 0.3358 - val_accuracy: 0.8435\n",
            "Epoch 17/150\n",
            "76/76 [==============================] - 0s 4ms/step - loss: 0.3579 - accuracy: 0.8322 - val_loss: 0.2983 - val_accuracy: 0.8738\n",
            "Epoch 18/150\n",
            "76/76 [==============================] - 0s 4ms/step - loss: 0.3395 - accuracy: 0.8626 - val_loss: 0.2723 - val_accuracy: 0.8902\n",
            "Epoch 19/150\n",
            "76/76 [==============================] - 0s 4ms/step - loss: 0.3142 - accuracy: 0.8629 - val_loss: 0.2575 - val_accuracy: 0.9019\n",
            "Epoch 20/150\n",
            "76/76 [==============================] - 0s 4ms/step - loss: 0.3167 - accuracy: 0.8658 - val_loss: 0.2541 - val_accuracy: 0.8949\n",
            "Epoch 21/150\n",
            "76/76 [==============================] - 0s 3ms/step - loss: 0.3239 - accuracy: 0.8584 - val_loss: 0.2266 - val_accuracy: 0.9089\n",
            "Epoch 22/150\n",
            "76/76 [==============================] - 0s 4ms/step - loss: 0.2643 - accuracy: 0.8846 - val_loss: 0.2189 - val_accuracy: 0.9089\n",
            "Epoch 23/150\n",
            "76/76 [==============================] - 0s 4ms/step - loss: 0.2788 - accuracy: 0.8771 - val_loss: 0.2554 - val_accuracy: 0.8879\n",
            "Epoch 24/150\n",
            "76/76 [==============================] - 0s 3ms/step - loss: 0.2553 - accuracy: 0.8935 - val_loss: 0.2147 - val_accuracy: 0.9112\n",
            "Epoch 25/150\n",
            "76/76 [==============================] - 0s 4ms/step - loss: 0.2736 - accuracy: 0.8902 - val_loss: 0.2095 - val_accuracy: 0.9089\n",
            "Epoch 26/150\n",
            "76/76 [==============================] - 0s 3ms/step - loss: 0.2393 - accuracy: 0.9062 - val_loss: 0.2325 - val_accuracy: 0.9089\n",
            "Epoch 27/150\n",
            "76/76 [==============================] - 0s 4ms/step - loss: 0.2566 - accuracy: 0.8924 - val_loss: 0.2092 - val_accuracy: 0.9019\n",
            "Epoch 28/150\n",
            "76/76 [==============================] - 0s 4ms/step - loss: 0.2296 - accuracy: 0.9005 - val_loss: 0.1897 - val_accuracy: 0.9276\n",
            "Epoch 29/150\n",
            "76/76 [==============================] - 0s 3ms/step - loss: 0.2601 - accuracy: 0.8872 - val_loss: 0.2661 - val_accuracy: 0.8879\n",
            "Epoch 30/150\n",
            "76/76 [==============================] - 46s 611ms/step - loss: 0.2579 - accuracy: 0.8810 - val_loss: 0.2021 - val_accuracy: 0.9089\n",
            "Epoch 31/150\n",
            "76/76 [==============================] - 0s 3ms/step - loss: 0.2178 - accuracy: 0.9108 - val_loss: 0.1732 - val_accuracy: 0.9322\n",
            "Epoch 32/150\n",
            "76/76 [==============================] - 0s 4ms/step - loss: 0.2250 - accuracy: 0.9090 - val_loss: 0.1668 - val_accuracy: 0.9369\n",
            "Epoch 33/150\n",
            "76/76 [==============================] - 0s 3ms/step - loss: 0.2119 - accuracy: 0.9067 - val_loss: 0.1931 - val_accuracy: 0.9229\n",
            "Epoch 34/150\n",
            "76/76 [==============================] - 0s 4ms/step - loss: 0.2249 - accuracy: 0.9147 - val_loss: 0.1749 - val_accuracy: 0.9276\n",
            "Epoch 35/150\n",
            "76/76 [==============================] - 0s 3ms/step - loss: 0.2300 - accuracy: 0.9002 - val_loss: 0.1566 - val_accuracy: 0.9346\n",
            "Epoch 36/150\n",
            "76/76 [==============================] - 0s 4ms/step - loss: 0.2360 - accuracy: 0.9080 - val_loss: 0.1758 - val_accuracy: 0.9252\n",
            "Epoch 37/150\n",
            "76/76 [==============================] - 0s 4ms/step - loss: 0.2082 - accuracy: 0.9202 - val_loss: 0.1558 - val_accuracy: 0.9346\n",
            "Epoch 38/150\n",
            "76/76 [==============================] - 0s 4ms/step - loss: 0.2237 - accuracy: 0.9148 - val_loss: 0.1571 - val_accuracy: 0.9416\n",
            "Epoch 39/150\n",
            "76/76 [==============================] - 0s 3ms/step - loss: 0.1987 - accuracy: 0.9248 - val_loss: 0.1880 - val_accuracy: 0.9112\n",
            "Epoch 40/150\n",
            "76/76 [==============================] - 0s 3ms/step - loss: 0.1792 - accuracy: 0.9359 - val_loss: 0.1439 - val_accuracy: 0.9416\n",
            "Epoch 41/150\n",
            "76/76 [==============================] - 0s 4ms/step - loss: 0.1829 - accuracy: 0.9274 - val_loss: 0.1326 - val_accuracy: 0.9556\n",
            "Epoch 42/150\n",
            "76/76 [==============================] - 0s 4ms/step - loss: 0.2002 - accuracy: 0.9184 - val_loss: 0.1331 - val_accuracy: 0.9533\n",
            "Epoch 43/150\n",
            "76/76 [==============================] - 0s 3ms/step - loss: 0.1845 - accuracy: 0.9309 - val_loss: 0.1362 - val_accuracy: 0.9579\n",
            "Epoch 44/150\n",
            "76/76 [==============================] - 0s 4ms/step - loss: 0.1759 - accuracy: 0.9370 - val_loss: 0.1352 - val_accuracy: 0.9509\n",
            "Epoch 45/150\n",
            "76/76 [==============================] - 0s 4ms/step - loss: 0.1839 - accuracy: 0.9265 - val_loss: 0.1210 - val_accuracy: 0.9579\n",
            "Epoch 46/150\n",
            "76/76 [==============================] - 0s 4ms/step - loss: 0.1885 - accuracy: 0.9253 - val_loss: 0.1416 - val_accuracy: 0.9509\n",
            "Epoch 47/150\n",
            "76/76 [==============================] - 0s 4ms/step - loss: 0.1844 - accuracy: 0.9310 - val_loss: 0.1590 - val_accuracy: 0.9369\n",
            "Epoch 48/150\n",
            "76/76 [==============================] - 0s 4ms/step - loss: 0.1834 - accuracy: 0.9282 - val_loss: 0.1261 - val_accuracy: 0.9533\n",
            "Epoch 49/150\n",
            "76/76 [==============================] - 0s 4ms/step - loss: 0.1805 - accuracy: 0.9324 - val_loss: 0.1357 - val_accuracy: 0.9556\n",
            "Epoch 50/150\n",
            "76/76 [==============================] - 0s 3ms/step - loss: 0.1622 - accuracy: 0.9336 - val_loss: 0.1267 - val_accuracy: 0.9486\n",
            "Epoch 51/150\n",
            "76/76 [==============================] - 0s 4ms/step - loss: 0.1641 - accuracy: 0.9422 - val_loss: 0.1081 - val_accuracy: 0.9626\n",
            "Epoch 52/150\n",
            "76/76 [==============================] - 0s 4ms/step - loss: 0.1743 - accuracy: 0.9293 - val_loss: 0.1158 - val_accuracy: 0.9556\n",
            "Epoch 53/150\n",
            "76/76 [==============================] - 0s 4ms/step - loss: 0.1413 - accuracy: 0.9501 - val_loss: 0.1276 - val_accuracy: 0.9579\n",
            "Epoch 54/150\n",
            "76/76 [==============================] - 0s 4ms/step - loss: 0.1914 - accuracy: 0.9385 - val_loss: 0.1174 - val_accuracy: 0.9579\n",
            "Epoch 55/150\n",
            "76/76 [==============================] - 0s 4ms/step - loss: 0.1439 - accuracy: 0.9500 - val_loss: 0.1323 - val_accuracy: 0.9556\n",
            "Epoch 56/150\n",
            "76/76 [==============================] - 0s 3ms/step - loss: 0.1547 - accuracy: 0.9397 - val_loss: 0.1350 - val_accuracy: 0.9556\n",
            "Epoch 57/150\n",
            "76/76 [==============================] - 0s 4ms/step - loss: 0.1709 - accuracy: 0.9424 - val_loss: 0.1116 - val_accuracy: 0.9556\n",
            "Epoch 58/150\n",
            "76/76 [==============================] - 0s 4ms/step - loss: 0.1670 - accuracy: 0.9314 - val_loss: 0.1176 - val_accuracy: 0.9509\n",
            "Epoch 59/150\n",
            "76/76 [==============================] - 0s 4ms/step - loss: 0.1552 - accuracy: 0.9399 - val_loss: 0.1151 - val_accuracy: 0.9603\n",
            "Epoch 60/150\n",
            "76/76 [==============================] - 0s 3ms/step - loss: 0.1564 - accuracy: 0.9444 - val_loss: 0.1232 - val_accuracy: 0.9533\n",
            "Epoch 61/150\n",
            "76/76 [==============================] - 0s 4ms/step - loss: 0.1678 - accuracy: 0.9398 - val_loss: 0.1047 - val_accuracy: 0.9673\n",
            "Epoch 62/150\n",
            "76/76 [==============================] - 0s 4ms/step - loss: 0.1325 - accuracy: 0.9522 - val_loss: 0.1100 - val_accuracy: 0.9603\n",
            "Epoch 63/150\n",
            "76/76 [==============================] - 0s 4ms/step - loss: 0.1500 - accuracy: 0.9434 - val_loss: 0.1595 - val_accuracy: 0.9369\n",
            "Epoch 64/150\n",
            "76/76 [==============================] - 0s 4ms/step - loss: 0.1727 - accuracy: 0.9394 - val_loss: 0.1071 - val_accuracy: 0.9579\n",
            "Epoch 65/150\n",
            "76/76 [==============================] - 0s 4ms/step - loss: 0.1474 - accuracy: 0.9357 - val_loss: 0.1148 - val_accuracy: 0.9579\n",
            "Epoch 66/150\n",
            "76/76 [==============================] - 0s 4ms/step - loss: 0.1380 - accuracy: 0.9478 - val_loss: 0.1033 - val_accuracy: 0.9650\n",
            "Epoch 67/150\n",
            "76/76 [==============================] - 0s 4ms/step - loss: 0.1252 - accuracy: 0.9525 - val_loss: 0.1064 - val_accuracy: 0.9696\n",
            "Epoch 68/150\n",
            "76/76 [==============================] - 0s 4ms/step - loss: 0.1475 - accuracy: 0.9502 - val_loss: 0.1092 - val_accuracy: 0.9650\n",
            "Epoch 69/150\n",
            "76/76 [==============================] - 0s 4ms/step - loss: 0.1487 - accuracy: 0.9486 - val_loss: 0.1053 - val_accuracy: 0.9650\n",
            "Epoch 70/150\n",
            "76/76 [==============================] - 0s 4ms/step - loss: 0.1546 - accuracy: 0.9434 - val_loss: 0.1255 - val_accuracy: 0.9603\n",
            "Epoch 71/150\n",
            "76/76 [==============================] - 0s 4ms/step - loss: 0.1338 - accuracy: 0.9510 - val_loss: 0.1054 - val_accuracy: 0.9650\n",
            "Epoch 72/150\n",
            "76/76 [==============================] - 0s 4ms/step - loss: 0.1436 - accuracy: 0.9476 - val_loss: 0.1113 - val_accuracy: 0.9650\n",
            "Epoch 73/150\n",
            "76/76 [==============================] - 0s 4ms/step - loss: 0.1655 - accuracy: 0.9384 - val_loss: 0.1649 - val_accuracy: 0.9486\n",
            "Epoch 74/150\n",
            "76/76 [==============================] - 0s 4ms/step - loss: 0.1449 - accuracy: 0.9489 - val_loss: 0.1188 - val_accuracy: 0.9626\n",
            "Epoch 75/150\n",
            "76/76 [==============================] - 0s 4ms/step - loss: 0.1226 - accuracy: 0.9528 - val_loss: 0.1057 - val_accuracy: 0.9650\n",
            "Epoch 76/150\n",
            "76/76 [==============================] - 0s 4ms/step - loss: 0.1227 - accuracy: 0.9571 - val_loss: 0.1278 - val_accuracy: 0.9579\n",
            "Epoch 77/150\n",
            "76/76 [==============================] - 0s 4ms/step - loss: 0.1336 - accuracy: 0.9522 - val_loss: 0.1127 - val_accuracy: 0.9579\n",
            "Epoch 78/150\n",
            "76/76 [==============================] - 0s 3ms/step - loss: 0.1381 - accuracy: 0.9477 - val_loss: 0.1513 - val_accuracy: 0.9393\n",
            "Epoch 79/150\n",
            "76/76 [==============================] - 0s 4ms/step - loss: 0.1344 - accuracy: 0.9530 - val_loss: 0.1007 - val_accuracy: 0.9626\n",
            "Epoch 80/150\n",
            "76/76 [==============================] - 0s 4ms/step - loss: 0.1242 - accuracy: 0.9544 - val_loss: 0.1031 - val_accuracy: 0.9673\n",
            "Epoch 81/150\n",
            "76/76 [==============================] - 0s 4ms/step - loss: 0.1340 - accuracy: 0.9509 - val_loss: 0.1073 - val_accuracy: 0.9650\n",
            "Epoch 82/150\n",
            "76/76 [==============================] - 0s 4ms/step - loss: 0.1123 - accuracy: 0.9544 - val_loss: 0.0973 - val_accuracy: 0.9579\n",
            "Epoch 83/150\n",
            "76/76 [==============================] - 0s 4ms/step - loss: 0.1263 - accuracy: 0.9463 - val_loss: 0.1035 - val_accuracy: 0.9696\n",
            "Epoch 84/150\n",
            "76/76 [==============================] - 0s 4ms/step - loss: 0.1257 - accuracy: 0.9569 - val_loss: 0.1143 - val_accuracy: 0.9579\n",
            "Epoch 85/150\n",
            "76/76 [==============================] - 0s 4ms/step - loss: 0.1243 - accuracy: 0.9471 - val_loss: 0.1068 - val_accuracy: 0.9626\n",
            "Epoch 86/150\n",
            "76/76 [==============================] - 0s 4ms/step - loss: 0.1320 - accuracy: 0.9495 - val_loss: 0.0961 - val_accuracy: 0.9673\n",
            "Epoch 87/150\n",
            "76/76 [==============================] - 0s 4ms/step - loss: 0.1130 - accuracy: 0.9525 - val_loss: 0.1064 - val_accuracy: 0.9626\n",
            "Epoch 88/150\n",
            "76/76 [==============================] - 0s 4ms/step - loss: 0.1286 - accuracy: 0.9498 - val_loss: 0.1057 - val_accuracy: 0.9650\n",
            "Epoch 89/150\n",
            "76/76 [==============================] - 0s 4ms/step - loss: 0.1243 - accuracy: 0.9538 - val_loss: 0.1038 - val_accuracy: 0.9626\n",
            "Epoch 90/150\n",
            "76/76 [==============================] - 0s 4ms/step - loss: 0.1115 - accuracy: 0.9576 - val_loss: 0.1028 - val_accuracy: 0.9673\n",
            "Epoch 91/150\n",
            "76/76 [==============================] - 0s 4ms/step - loss: 0.1303 - accuracy: 0.9551 - val_loss: 0.1023 - val_accuracy: 0.9650\n",
            "Epoch 92/150\n",
            "76/76 [==============================] - 0s 4ms/step - loss: 0.1170 - accuracy: 0.9560 - val_loss: 0.1198 - val_accuracy: 0.9626\n",
            "Epoch 93/150\n",
            "76/76 [==============================] - 0s 4ms/step - loss: 0.1313 - accuracy: 0.9471 - val_loss: 0.1134 - val_accuracy: 0.9650\n",
            "Epoch 94/150\n",
            "76/76 [==============================] - 0s 4ms/step - loss: 0.1443 - accuracy: 0.9434 - val_loss: 0.0999 - val_accuracy: 0.9696\n",
            "Epoch 95/150\n",
            "76/76 [==============================] - 0s 4ms/step - loss: 0.1240 - accuracy: 0.9559 - val_loss: 0.1042 - val_accuracy: 0.9673\n",
            "Epoch 96/150\n",
            "76/76 [==============================] - 0s 4ms/step - loss: 0.1343 - accuracy: 0.9415 - val_loss: 0.1579 - val_accuracy: 0.9416\n",
            "Epoch 97/150\n",
            "76/76 [==============================] - 0s 4ms/step - loss: 0.1419 - accuracy: 0.9512 - val_loss: 0.0953 - val_accuracy: 0.9673\n",
            "Epoch 98/150\n",
            "76/76 [==============================] - 0s 4ms/step - loss: 0.1199 - accuracy: 0.9578 - val_loss: 0.1146 - val_accuracy: 0.9650\n",
            "Epoch 99/150\n",
            "76/76 [==============================] - 0s 4ms/step - loss: 0.1274 - accuracy: 0.9574 - val_loss: 0.1037 - val_accuracy: 0.9673\n",
            "Epoch 100/150\n",
            "76/76 [==============================] - 0s 4ms/step - loss: 0.1469 - accuracy: 0.9482 - val_loss: 0.0944 - val_accuracy: 0.9650\n",
            "Epoch 101/150\n",
            "76/76 [==============================] - 0s 4ms/step - loss: 0.1030 - accuracy: 0.9643 - val_loss: 0.0913 - val_accuracy: 0.9743\n",
            "Epoch 102/150\n",
            "76/76 [==============================] - 0s 4ms/step - loss: 0.1113 - accuracy: 0.9592 - val_loss: 0.1117 - val_accuracy: 0.9673\n",
            "Epoch 103/150\n",
            "76/76 [==============================] - 0s 4ms/step - loss: 0.0965 - accuracy: 0.9657 - val_loss: 0.1052 - val_accuracy: 0.9579\n",
            "Epoch 104/150\n",
            "76/76 [==============================] - 0s 4ms/step - loss: 0.1235 - accuracy: 0.9490 - val_loss: 0.1102 - val_accuracy: 0.9603\n",
            "Epoch 105/150\n",
            "76/76 [==============================] - 0s 4ms/step - loss: 0.1157 - accuracy: 0.9558 - val_loss: 0.1107 - val_accuracy: 0.9673\n",
            "Epoch 106/150\n",
            "76/76 [==============================] - 0s 4ms/step - loss: 0.1224 - accuracy: 0.9579 - val_loss: 0.1465 - val_accuracy: 0.9486\n",
            "Epoch 107/150\n",
            "76/76 [==============================] - 0s 4ms/step - loss: 0.1027 - accuracy: 0.9664 - val_loss: 0.1107 - val_accuracy: 0.9556\n",
            "Epoch 108/150\n",
            "76/76 [==============================] - 0s 4ms/step - loss: 0.1213 - accuracy: 0.9605 - val_loss: 0.1088 - val_accuracy: 0.9650\n",
            "Epoch 109/150\n",
            "76/76 [==============================] - 0s 4ms/step - loss: 0.1246 - accuracy: 0.9567 - val_loss: 0.0999 - val_accuracy: 0.9696\n",
            "Epoch 110/150\n",
            "76/76 [==============================] - 0s 4ms/step - loss: 0.1312 - accuracy: 0.9535 - val_loss: 0.1312 - val_accuracy: 0.9603\n",
            "Epoch 111/150\n",
            "76/76 [==============================] - 0s 4ms/step - loss: 0.1240 - accuracy: 0.9524 - val_loss: 0.0926 - val_accuracy: 0.9696\n",
            "Epoch 112/150\n",
            "76/76 [==============================] - 0s 4ms/step - loss: 0.1044 - accuracy: 0.9648 - val_loss: 0.0962 - val_accuracy: 0.9696\n",
            "Epoch 113/150\n",
            "76/76 [==============================] - 0s 4ms/step - loss: 0.1337 - accuracy: 0.9509 - val_loss: 0.0940 - val_accuracy: 0.9720\n",
            "Epoch 114/150\n",
            "76/76 [==============================] - 0s 4ms/step - loss: 0.1464 - accuracy: 0.9452 - val_loss: 0.1475 - val_accuracy: 0.9322\n",
            "Epoch 115/150\n",
            "76/76 [==============================] - 0s 4ms/step - loss: 0.1239 - accuracy: 0.9499 - val_loss: 0.0934 - val_accuracy: 0.9696\n",
            "Epoch 116/150\n",
            "76/76 [==============================] - 0s 4ms/step - loss: 0.1151 - accuracy: 0.9565 - val_loss: 0.1045 - val_accuracy: 0.9673\n",
            "Epoch 117/150\n",
            "76/76 [==============================] - 0s 4ms/step - loss: 0.1097 - accuracy: 0.9589 - val_loss: 0.1285 - val_accuracy: 0.9579\n",
            "Epoch 118/150\n",
            "76/76 [==============================] - 0s 3ms/step - loss: 0.1222 - accuracy: 0.9498 - val_loss: 0.1063 - val_accuracy: 0.9626\n",
            "Epoch 119/150\n",
            "76/76 [==============================] - 0s 4ms/step - loss: 0.1078 - accuracy: 0.9577 - val_loss: 0.0985 - val_accuracy: 0.9650\n",
            "Epoch 120/150\n",
            "76/76 [==============================] - 0s 4ms/step - loss: 0.1351 - accuracy: 0.9505 - val_loss: 0.0966 - val_accuracy: 0.9766\n",
            "Epoch 121/150\n",
            "76/76 [==============================] - 0s 4ms/step - loss: 0.1252 - accuracy: 0.9551 - val_loss: 0.1007 - val_accuracy: 0.9696\n",
            "Epoch 122/150\n",
            "76/76 [==============================] - 0s 4ms/step - loss: 0.1009 - accuracy: 0.9593 - val_loss: 0.1077 - val_accuracy: 0.9626\n",
            "Epoch 123/150\n",
            "76/76 [==============================] - 0s 4ms/step - loss: 0.1205 - accuracy: 0.9509 - val_loss: 0.1171 - val_accuracy: 0.9650\n",
            "Epoch 124/150\n",
            "76/76 [==============================] - 0s 4ms/step - loss: 0.1318 - accuracy: 0.9496 - val_loss: 0.0971 - val_accuracy: 0.9650\n",
            "Epoch 125/150\n",
            "76/76 [==============================] - 0s 4ms/step - loss: 0.1210 - accuracy: 0.9583 - val_loss: 0.1104 - val_accuracy: 0.9626\n",
            "Epoch 126/150\n",
            "76/76 [==============================] - 0s 4ms/step - loss: 0.1305 - accuracy: 0.9505 - val_loss: 0.1117 - val_accuracy: 0.9626\n",
            "Epoch 127/150\n",
            "76/76 [==============================] - 0s 4ms/step - loss: 0.1070 - accuracy: 0.9574 - val_loss: 0.1029 - val_accuracy: 0.9603\n",
            "Epoch 128/150\n",
            "76/76 [==============================] - 0s 4ms/step - loss: 0.1080 - accuracy: 0.9594 - val_loss: 0.1028 - val_accuracy: 0.9696\n",
            "Epoch 129/150\n",
            "76/76 [==============================] - 0s 4ms/step - loss: 0.1194 - accuracy: 0.9543 - val_loss: 0.1085 - val_accuracy: 0.9626\n",
            "Epoch 130/150\n",
            "76/76 [==============================] - 0s 4ms/step - loss: 0.1148 - accuracy: 0.9612 - val_loss: 0.1011 - val_accuracy: 0.9696\n",
            "Epoch 131/150\n",
            "76/76 [==============================] - 0s 4ms/step - loss: 0.1116 - accuracy: 0.9562 - val_loss: 0.1168 - val_accuracy: 0.9603\n",
            "Epoch 132/150\n",
            "76/76 [==============================] - 0s 4ms/step - loss: 0.1214 - accuracy: 0.9585 - val_loss: 0.1016 - val_accuracy: 0.9696\n",
            "Epoch 133/150\n",
            "76/76 [==============================] - 0s 4ms/step - loss: 0.1118 - accuracy: 0.9546 - val_loss: 0.0980 - val_accuracy: 0.9673\n",
            "Epoch 134/150\n",
            "76/76 [==============================] - 0s 4ms/step - loss: 0.0943 - accuracy: 0.9613 - val_loss: 0.1274 - val_accuracy: 0.9579\n",
            "Epoch 135/150\n",
            "76/76 [==============================] - 0s 4ms/step - loss: 0.1095 - accuracy: 0.9566 - val_loss: 0.1493 - val_accuracy: 0.9486\n",
            "Epoch 136/150\n",
            "76/76 [==============================] - 0s 4ms/step - loss: 0.1118 - accuracy: 0.9593 - val_loss: 0.1055 - val_accuracy: 0.9650\n",
            "Epoch 137/150\n",
            "76/76 [==============================] - 0s 4ms/step - loss: 0.1067 - accuracy: 0.9619 - val_loss: 0.1096 - val_accuracy: 0.9626\n",
            "Epoch 138/150\n",
            "76/76 [==============================] - 0s 4ms/step - loss: 0.1220 - accuracy: 0.9500 - val_loss: 0.0933 - val_accuracy: 0.9650\n",
            "Epoch 139/150\n",
            "76/76 [==============================] - 0s 4ms/step - loss: 0.1084 - accuracy: 0.9546 - val_loss: 0.0996 - val_accuracy: 0.9696\n",
            "Epoch 140/150\n",
            "76/76 [==============================] - 0s 4ms/step - loss: 0.0945 - accuracy: 0.9659 - val_loss: 0.0975 - val_accuracy: 0.9720\n",
            "Epoch 141/150\n",
            "76/76 [==============================] - 0s 4ms/step - loss: 0.1218 - accuracy: 0.9545 - val_loss: 0.1304 - val_accuracy: 0.9556\n",
            "Epoch 142/150\n",
            "76/76 [==============================] - 0s 4ms/step - loss: 0.1092 - accuracy: 0.9601 - val_loss: 0.2192 - val_accuracy: 0.9229\n",
            "Epoch 143/150\n",
            "76/76 [==============================] - 0s 4ms/step - loss: 0.1497 - accuracy: 0.9473 - val_loss: 0.0982 - val_accuracy: 0.9673\n",
            "Epoch 144/150\n",
            "76/76 [==============================] - 0s 4ms/step - loss: 0.0980 - accuracy: 0.9613 - val_loss: 0.0895 - val_accuracy: 0.9696\n",
            "Epoch 145/150\n",
            "76/76 [==============================] - 0s 4ms/step - loss: 0.1184 - accuracy: 0.9570 - val_loss: 0.0971 - val_accuracy: 0.9696\n",
            "Epoch 146/150\n",
            "76/76 [==============================] - 0s 4ms/step - loss: 0.1182 - accuracy: 0.9525 - val_loss: 0.1086 - val_accuracy: 0.9626\n",
            "Epoch 147/150\n",
            "76/76 [==============================] - 0s 4ms/step - loss: 0.1362 - accuracy: 0.9469 - val_loss: 0.1440 - val_accuracy: 0.9556\n",
            "Epoch 148/150\n",
            "76/76 [==============================] - 0s 3ms/step - loss: 0.1166 - accuracy: 0.9545 - val_loss: 0.1019 - val_accuracy: 0.9673\n",
            "Epoch 149/150\n",
            "76/76 [==============================] - 0s 4ms/step - loss: 0.1144 - accuracy: 0.9547 - val_loss: 0.1462 - val_accuracy: 0.9463\n",
            "Epoch 150/150\n",
            "76/76 [==============================] - 0s 4ms/step - loss: 0.1076 - accuracy: 0.9468 - val_loss: 0.1333 - val_accuracy: 0.9556\n"
          ],
          "name": "stdout"
        }
      ]
    },
    {
      "cell_type": "code",
      "metadata": {
        "id": "0DgrtwD7fMPd"
      },
      "source": [
        "Y_test_2 = test_2['label'].astype('int')\n",
        "X_test_2 = test_2.drop(columns='label')"
      ],
      "execution_count": null,
      "outputs": []
    },
    {
      "cell_type": "code",
      "metadata": {
        "colab": {
          "base_uri": "https://localhost:8080/"
        },
        "id": "l0mIa8DveNml",
        "outputId": "d20d2a64-f139-4b29-cdfa-58acdaf461d7"
      },
      "source": [
        "results = model.evaluate(X_test_2, Y_test_2)\n",
        "print(\"test loss, test acc:\", results)"
      ],
      "execution_count": null,
      "outputs": [
        {
          "output_type": "stream",
          "text": [
            "10/10 [==============================] - 0s 2ms/step - loss: 0.0989 - accuracy: 0.9495\n",
            "test loss, test acc: [0.09886176139116287, 0.9495267868041992]\n"
          ],
          "name": "stdout"
        }
      ]
    },
    {
      "cell_type": "code",
      "metadata": {
        "colab": {
          "base_uri": "https://localhost:8080/"
        },
        "id": "nQm1gTqLffQa",
        "outputId": "237acdf5-dfd2-4231-eeb6-b1e0bd06ae50"
      },
      "source": [
        "print(\"Generate predictions for 3 samples\")\n",
        "predictions = model.predict(X_test_2)\n",
        "print(\"predictions shape:\", predictions.shape)"
      ],
      "execution_count": null,
      "outputs": [
        {
          "output_type": "stream",
          "text": [
            "Generate predictions for 3 samples\n",
            "predictions shape: (317, 1)\n"
          ],
          "name": "stdout"
        }
      ]
    },
    {
      "cell_type": "code",
      "metadata": {
        "colab": {
          "base_uri": "https://localhost:8080/",
          "height": 295
        },
        "id": "b5ulbqmUfyJO",
        "outputId": "e083bb64-9162-4826-bd44-6417b805dcd1"
      },
      "source": [
        "plt.plot(history.history['accuracy'])\n",
        "plt.plot(history.history['val_accuracy'])\n",
        "plt.title('model accuracy')\n",
        "plt.ylabel('accuracy')\n",
        "plt.xlabel('epoch')\n",
        "plt.legend(['train', 'val'], loc='upper left')\n",
        "plt.show()"
      ],
      "execution_count": null,
      "outputs": [
        {
          "output_type": "display_data",
          "data": {
            "image/png": "[encoded data removed]",
            "text/plain": [
              "<Figure size 432x288 with 1 Axes>"
            ]
          },
          "metadata": {
            "tags": [],
            "needs_background": "light"
          }
        }
      ]
    },
    {
      "cell_type": "code",
      "metadata": {
        "colab": {
          "base_uri": "https://localhost:8080/",
          "height": 295
        },
        "id": "mtQYTtIUf53P",
        "outputId": "74f70a7e-dd6f-47aa-f2eb-0428deef9354"
      },
      "source": [
        "plt.plot(history.history['loss'])\n",
        "plt.plot(history.history['val_loss'])\n",
        "plt.title('model loss')\n",
        "plt.ylabel('loss')\n",
        "plt.xlabel('epoch')\n",
        "plt.legend(['train', 'val'], loc='upper left')\n",
        "plt.show()"
      ],
      "execution_count": null,
      "outputs": [
        {
          "output_type": "display_data",
          "data": {
            "image/png": "[encoded data removed]",
            "text/plain": [
              "<Figure size 432x288 with 1 Axes>"
            ]
          },
          "metadata": {
            "tags": [],
            "needs_background": "light"
          }
        }
      ]
    },
    {
      "cell_type": "code",
      "metadata": {
        "id": "4nsb9CW4owaE"
      },
      "source": [
        ""
      ],
      "execution_count": null,
      "outputs": []
    }
  ]
}